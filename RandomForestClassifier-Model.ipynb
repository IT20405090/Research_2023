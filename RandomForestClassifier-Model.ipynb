{
 "cells": [
  {
   "cell_type": "code",
   "execution_count": 1,
   "id": "d890dc18",
   "metadata": {},
   "outputs": [],
   "source": [
    "import pandas as pd\n",
    "from sklearn.model_selection import train_test_split\n",
    "from sklearn.ensemble import RandomForestClassifier\n",
    "from sklearn.metrics import accuracy_score\n",
    "from sklearn.preprocessing import LabelEncoder\n",
    "import pickle"
   ]
  },
  {
   "cell_type": "code",
   "execution_count": 2,
   "id": "eda1294d",
   "metadata": {},
   "outputs": [],
   "source": [
    "# Step 1: Data Loading and Exploration\n",
    "data = pd.read_csv('Child_Growth.csv')"
   ]
  },
  {
   "cell_type": "code",
   "execution_count": 3,
   "id": "6e1f79cb",
   "metadata": {},
   "outputs": [],
   "source": [
    "# Step 2: Data Preprocessing\n",
    "X = data.drop('growth', axis=1)\n",
    "y = data['growth']"
   ]
  },
  {
   "cell_type": "code",
   "execution_count": 4,
   "id": "8f82260e",
   "metadata": {},
   "outputs": [],
   "source": [
    "# Encode categorical variables\n",
    "categorical_cols = [\n",
    "    'gross_motor', 'fine_motor', 'communication', 'problem_solving', 'emotional_dev', 'attention', 'overactivity', 'passivity','planning', 'perception', 'perception_vf', 'memory', 'spoken', 'reading', 'social_skills', 'emotional_prob'\n",
    "]"
   ]
  },
  {
   "cell_type": "code",
   "execution_count": 5,
   "id": "61e0d37b",
   "metadata": {},
   "outputs": [],
   "source": [
    "label_encoders = {}\n",
    "for col in categorical_cols:\n",
    "    label_encoders[col] = LabelEncoder()\n",
    "    X[col] = label_encoders[col].fit_transform(X[col])"
   ]
  },
  {
   "cell_type": "code",
   "execution_count": 6,
   "id": "fe8752d0",
   "metadata": {},
   "outputs": [],
   "source": [
    "# Step 3: Train-Test Split\n",
    "X_train, X_test, y_train, y_test = train_test_split(X, y, test_size=0.2, random_state=42)\n"
   ]
  },
  {
   "cell_type": "code",
   "execution_count": 7,
   "id": "de1ac75e",
   "metadata": {},
   "outputs": [
    {
     "data": {
      "text/html": [
       "<style>#sk-container-id-1 {color: black;background-color: white;}#sk-container-id-1 pre{padding: 0;}#sk-container-id-1 div.sk-toggleable {background-color: white;}#sk-container-id-1 label.sk-toggleable__label {cursor: pointer;display: block;width: 100%;margin-bottom: 0;padding: 0.3em;box-sizing: border-box;text-align: center;}#sk-container-id-1 label.sk-toggleable__label-arrow:before {content: \"▸\";float: left;margin-right: 0.25em;color: #696969;}#sk-container-id-1 label.sk-toggleable__label-arrow:hover:before {color: black;}#sk-container-id-1 div.sk-estimator:hover label.sk-toggleable__label-arrow:before {color: black;}#sk-container-id-1 div.sk-toggleable__content {max-height: 0;max-width: 0;overflow: hidden;text-align: left;background-color: #f0f8ff;}#sk-container-id-1 div.sk-toggleable__content pre {margin: 0.2em;color: black;border-radius: 0.25em;background-color: #f0f8ff;}#sk-container-id-1 input.sk-toggleable__control:checked~div.sk-toggleable__content {max-height: 200px;max-width: 100%;overflow: auto;}#sk-container-id-1 input.sk-toggleable__control:checked~label.sk-toggleable__label-arrow:before {content: \"▾\";}#sk-container-id-1 div.sk-estimator input.sk-toggleable__control:checked~label.sk-toggleable__label {background-color: #d4ebff;}#sk-container-id-1 div.sk-label input.sk-toggleable__control:checked~label.sk-toggleable__label {background-color: #d4ebff;}#sk-container-id-1 input.sk-hidden--visually {border: 0;clip: rect(1px 1px 1px 1px);clip: rect(1px, 1px, 1px, 1px);height: 1px;margin: -1px;overflow: hidden;padding: 0;position: absolute;width: 1px;}#sk-container-id-1 div.sk-estimator {font-family: monospace;background-color: #f0f8ff;border: 1px dotted black;border-radius: 0.25em;box-sizing: border-box;margin-bottom: 0.5em;}#sk-container-id-1 div.sk-estimator:hover {background-color: #d4ebff;}#sk-container-id-1 div.sk-parallel-item::after {content: \"\";width: 100%;border-bottom: 1px solid gray;flex-grow: 1;}#sk-container-id-1 div.sk-label:hover label.sk-toggleable__label {background-color: #d4ebff;}#sk-container-id-1 div.sk-serial::before {content: \"\";position: absolute;border-left: 1px solid gray;box-sizing: border-box;top: 0;bottom: 0;left: 50%;z-index: 0;}#sk-container-id-1 div.sk-serial {display: flex;flex-direction: column;align-items: center;background-color: white;padding-right: 0.2em;padding-left: 0.2em;position: relative;}#sk-container-id-1 div.sk-item {position: relative;z-index: 1;}#sk-container-id-1 div.sk-parallel {display: flex;align-items: stretch;justify-content: center;background-color: white;position: relative;}#sk-container-id-1 div.sk-item::before, #sk-container-id-1 div.sk-parallel-item::before {content: \"\";position: absolute;border-left: 1px solid gray;box-sizing: border-box;top: 0;bottom: 0;left: 50%;z-index: -1;}#sk-container-id-1 div.sk-parallel-item {display: flex;flex-direction: column;z-index: 1;position: relative;background-color: white;}#sk-container-id-1 div.sk-parallel-item:first-child::after {align-self: flex-end;width: 50%;}#sk-container-id-1 div.sk-parallel-item:last-child::after {align-self: flex-start;width: 50%;}#sk-container-id-1 div.sk-parallel-item:only-child::after {width: 0;}#sk-container-id-1 div.sk-dashed-wrapped {border: 1px dashed gray;margin: 0 0.4em 0.5em 0.4em;box-sizing: border-box;padding-bottom: 0.4em;background-color: white;}#sk-container-id-1 div.sk-label label {font-family: monospace;font-weight: bold;display: inline-block;line-height: 1.2em;}#sk-container-id-1 div.sk-label-container {text-align: center;}#sk-container-id-1 div.sk-container {/* jupyter's `normalize.less` sets `[hidden] { display: none; }` but bootstrap.min.css set `[hidden] { display: none !important; }` so we also need the `!important` here to be able to override the default hidden behavior on the sphinx rendered scikit-learn.org. See: https://github.com/scikit-learn/scikit-learn/issues/21755 */display: inline-block !important;position: relative;}#sk-container-id-1 div.sk-text-repr-fallback {display: none;}</style><div id=\"sk-container-id-1\" class=\"sk-top-container\"><div class=\"sk-text-repr-fallback\"><pre>RandomForestClassifier(random_state=42)</pre><b>In a Jupyter environment, please rerun this cell to show the HTML representation or trust the notebook. <br />On GitHub, the HTML representation is unable to render, please try loading this page with nbviewer.org.</b></div><div class=\"sk-container\" hidden><div class=\"sk-item\"><div class=\"sk-estimator sk-toggleable\"><input class=\"sk-toggleable__control sk-hidden--visually\" id=\"sk-estimator-id-1\" type=\"checkbox\" checked><label for=\"sk-estimator-id-1\" class=\"sk-toggleable__label sk-toggleable__label-arrow\">RandomForestClassifier</label><div class=\"sk-toggleable__content\"><pre>RandomForestClassifier(random_state=42)</pre></div></div></div></div></div>"
      ],
      "text/plain": [
       "RandomForestClassifier(random_state=42)"
      ]
     },
     "execution_count": 7,
     "metadata": {},
     "output_type": "execute_result"
    }
   ],
   "source": [
    "# Step 4: Build a Random Forest Classifier\n",
    "rf_classifier = RandomForestClassifier(n_estimators=100, random_state=42)\n",
    "rf_classifier.fit(X_train, y_train)"
   ]
  },
  {
   "cell_type": "code",
   "execution_count": 8,
   "id": "96210d6b",
   "metadata": {},
   "outputs": [],
   "source": [
    "# Step 5: Evaluate the Model\n",
    "y_pred_train = rf_classifier.predict(X_train)\n",
    "y_pred_test = rf_classifier.predict(X_test)"
   ]
  },
  {
   "cell_type": "code",
   "execution_count": 9,
   "id": "ca770c4a",
   "metadata": {},
   "outputs": [],
   "source": [
    "train_accuracy = accuracy_score(y_train, y_pred_train)\n",
    "test_accuracy = accuracy_score(y_test, y_pred_test)\n"
   ]
  },
  {
   "cell_type": "code",
   "execution_count": 10,
   "id": "bc71dc57",
   "metadata": {},
   "outputs": [
    {
     "name": "stdout",
     "output_type": "stream",
     "text": [
      "Training Accuracy: 1.0\n",
      "Testing Accuracy: 0.3300625\n"
     ]
    }
   ],
   "source": [
    "print(\"Training Accuracy:\", train_accuracy)\n",
    "print(\"Testing Accuracy:\", test_accuracy)"
   ]
  },
  {
   "cell_type": "code",
   "execution_count": 11,
   "id": "739c5f60",
   "metadata": {},
   "outputs": [
    {
     "name": "stdout",
     "output_type": "stream",
     "text": [
      "Enter age: 2\n",
      "Enter height: 20\n",
      "Enter weight: 20\n",
      "Enter gross motor (poor/fair/good/excellent): good\n",
      "Enter fine motor (poor/fair/good/excellent): poor\n",
      "Enter communication (poor/fair/good/excellent): good\n",
      "Enter problem solving (poor/fair/good/excellent): good\n",
      "Enter emotional development (poor/fair/good/excellent): good\n",
      "Enter attention and concentration (poor/fair/good/excellent): good\n",
      "Enter overactivity and impulsivity (poor/fair/good/excellent): good\n",
      "Enter passivity/ inactivity (poor/fair/good/excellent): good\n",
      "Enter planning/ organising (poor/fair/good/excellent): good\n",
      "Enter perception of directions (poor/fair/good/excellent): good\n",
      "Enter perception of visual forms and figures (poor/fair/good/excellent): good\n",
      "Enter memory (poor/fair/good/excellent): good\n",
      "Enter spoken language (poor/fair/good/excellent): good\n",
      "Enter reading/writing (poor/fair/good/excellent): good\n",
      "Enter social skills (poor/fair/good/excellent): good\n",
      "Enter emotional problems (good/bad): good\n"
     ]
    }
   ],
   "source": [
    "# Get inputs from the user\n",
    "age = int(input(\"Enter age: \"))\n",
    "height = int(input(\"Enter height: \"))\n",
    "weight = int(input(\"Enter weight: \"))\n",
    "gross_motor = input(\"Enter gross motor (poor/fair/good/excellent): \")\n",
    "fine_motor = input(\"Enter fine motor (poor/fair/good/excellent): \")\n",
    "communication = input(\"Enter communication (poor/fair/good/excellent): \")\n",
    "problem_solving = input(\"Enter problem solving (poor/fair/good/excellent): \")\n",
    "emotional_dev = input(\"Enter emotional development (poor/fair/good/excellent): \")\n",
    "attention = input(\"Enter attention and concentration (poor/fair/good/excellent): \")\n",
    "overactivity = input(\"Enter overactivity and impulsivity (poor/fair/good/excellent): \")\n",
    "passivity = input(\"Enter passivity/ inactivity (poor/fair/good/excellent): \")\n",
    "planning = input(\"Enter planning/ organising (poor/fair/good/excellent): \")\n",
    "perception = input(\"Enter perception of directions (poor/fair/good/excellent): \")\n",
    "perception_vf = input(\"Enter perception of visual forms and figures (poor/fair/good/excellent): \")\n",
    "memory = input(\"Enter memory (poor/fair/good/excellent): \")\n",
    "spoken = input(\"Enter spoken language (poor/fair/good/excellent): \")\n",
    "reading = input(\"Enter reading/writing (poor/fair/good/excellent): \")\n",
    "social_skills = input(\"Enter social skills (poor/fair/good/excellent): \")\n",
    "emotional_prob = input(\"Enter emotional problems (good/bad): \")\n"
   ]
  },
  {
   "cell_type": "code",
   "execution_count": 12,
   "id": "80c62f46",
   "metadata": {},
   "outputs": [],
   "source": [
    "user_data = pd.DataFrame({\n",
    "    'age': [age],\n",
    "    'height': [height],\n",
    "    'weight': [weight],\n",
    "    'gross_motor': [label_encoders['gross_motor'].transform([gross_motor])[0]],\n",
    "    'fine_motor': [label_encoders['fine_motor'].transform([fine_motor])[0]],\n",
    "    'communication': [label_encoders['communication'].transform([communication])[0]],\n",
    "    'problem_solving': [label_encoders['problem_solving'].transform([problem_solving])[0]],\n",
    "    'emotional_dev': [label_encoders['emotional_dev'].transform([emotional_dev])[0]],\n",
    "    'attention': [label_encoders['attention'].transform([attention])[0]],\n",
    "    'overactivity': [label_encoders['overactivity'].transform([overactivity])[0]],\n",
    "    'passivity': [label_encoders['passivity'].transform([passivity])[0]],\n",
    "    'planning': [label_encoders['planning'].transform([planning])[0]],\n",
    "    'perception': [label_encoders['perception'].transform([perception])[0]],\n",
    "    'perception_vf': [label_encoders['perception_vf'].transform([perception_vf])[0]],\n",
    "    'memory': [label_encoders['memory'].transform([memory])[0]],\n",
    "    'spoken': [label_encoders['spoken'].transform([spoken])[0]],\n",
    "    'reading': [label_encoders['reading'].transform([reading])[0]],\n",
    "    'social_skills': [label_encoders['social_skills'].transform([social_skills])[0]],\n",
    "    'emotional_prob': [label_encoders['emotional_prob'].transform([emotional_prob])[0]],\n",
    "})"
   ]
  },
  {
   "cell_type": "code",
   "execution_count": 13,
   "id": "ffa93203",
   "metadata": {},
   "outputs": [],
   "source": [
    "# Save the trained model to a file using pickle\n",
    "with open('child_growth_classifier.pkl', 'wb') as model_file:\n",
    "    pickle.dump(rf_classifier, model_file)\n",
    "\n"
   ]
  },
  {
   "cell_type": "code",
   "execution_count": 14,
   "id": "c29d1e1e",
   "metadata": {},
   "outputs": [],
   "source": [
    "# Load the trained model\n",
    "with open('child_growth_classifier.pkl', 'rb') as model_file:\n",
    "    loaded_model = pickle.load(model_file)"
   ]
  },
  {
   "cell_type": "code",
   "execution_count": 15,
   "id": "923a5df0",
   "metadata": {},
   "outputs": [],
   "source": [
    "# Create a list of feature names in the same order as during training\n",
    "feature_names = X.columns.tolist()"
   ]
  },
  {
   "cell_type": "code",
   "execution_count": 16,
   "id": "00b89eb8",
   "metadata": {},
   "outputs": [],
   "source": [
    "# Reorganize the columns in user_data\n",
    "user_data = user_data[feature_names]"
   ]
  },
  {
   "cell_type": "code",
   "execution_count": 17,
   "id": "ca056f90",
   "metadata": {},
   "outputs": [],
   "source": [
    "# Make a prediction using the loaded model\n",
    "user_prediction = loaded_model.predict(user_data)"
   ]
  },
  {
   "cell_type": "code",
   "execution_count": 18,
   "id": "a179a18a",
   "metadata": {},
   "outputs": [
    {
     "name": "stdout",
     "output_type": "stream",
     "text": [
      "Predicted growth category: 3\n"
     ]
    }
   ],
   "source": [
    "# Print the prediction\n",
    "print(\"Predicted growth category:\", user_prediction[0])"
   ]
  },
  {
   "cell_type": "code",
   "execution_count": null,
   "id": "c4ea3a80",
   "metadata": {},
   "outputs": [],
   "source": []
  },
  {
   "cell_type": "code",
   "execution_count": null,
   "id": "9a039534",
   "metadata": {},
   "outputs": [],
   "source": []
  },
  {
   "cell_type": "code",
   "execution_count": null,
   "id": "bfda07e9",
   "metadata": {},
   "outputs": [],
   "source": []
  },
  {
   "cell_type": "code",
   "execution_count": null,
   "id": "b1e9da48",
   "metadata": {},
   "outputs": [],
   "source": []
  },
  {
   "cell_type": "code",
   "execution_count": null,
   "id": "c88ff51d",
   "metadata": {},
   "outputs": [],
   "source": []
  },
  {
   "cell_type": "code",
   "execution_count": null,
   "id": "05c85516",
   "metadata": {},
   "outputs": [],
   "source": []
  },
  {
   "cell_type": "code",
   "execution_count": null,
   "id": "c44813e4",
   "metadata": {},
   "outputs": [],
   "source": []
  },
  {
   "cell_type": "code",
   "execution_count": null,
   "id": "eccf2192",
   "metadata": {},
   "outputs": [],
   "source": []
  },
  {
   "cell_type": "code",
   "execution_count": null,
   "id": "25a3d83e",
   "metadata": {},
   "outputs": [],
   "source": []
  },
  {
   "cell_type": "code",
   "execution_count": null,
   "id": "f75c2ff3",
   "metadata": {},
   "outputs": [],
   "source": []
  },
  {
   "cell_type": "code",
   "execution_count": null,
   "id": "b56ddd6e",
   "metadata": {},
   "outputs": [],
   "source": []
  },
  {
   "cell_type": "code",
   "execution_count": null,
   "id": "123ab228",
   "metadata": {},
   "outputs": [],
   "source": []
  },
  {
   "cell_type": "code",
   "execution_count": null,
   "id": "a6dc2111",
   "metadata": {},
   "outputs": [],
   "source": []
  },
  {
   "cell_type": "code",
   "execution_count": null,
   "id": "6b278199",
   "metadata": {},
   "outputs": [],
   "source": []
  },
  {
   "cell_type": "code",
   "execution_count": null,
   "id": "d5f1cf5c",
   "metadata": {},
   "outputs": [],
   "source": []
  },
  {
   "cell_type": "code",
   "execution_count": null,
   "id": "2eec24bb",
   "metadata": {},
   "outputs": [],
   "source": [
    "\n"
   ]
  },
  {
   "cell_type": "code",
   "execution_count": null,
   "id": "c32126c0",
   "metadata": {},
   "outputs": [],
   "source": []
  },
  {
   "cell_type": "code",
   "execution_count": null,
   "id": "446371bb",
   "metadata": {},
   "outputs": [],
   "source": []
  },
  {
   "cell_type": "code",
   "execution_count": null,
   "id": "abde13d1",
   "metadata": {},
   "outputs": [],
   "source": []
  },
  {
   "cell_type": "code",
   "execution_count": null,
   "id": "8eb60197",
   "metadata": {},
   "outputs": [],
   "source": []
  },
  {
   "cell_type": "code",
   "execution_count": null,
   "id": "247b096c",
   "metadata": {},
   "outputs": [],
   "source": []
  },
  {
   "cell_type": "code",
   "execution_count": null,
   "id": "d111b76a",
   "metadata": {},
   "outputs": [],
   "source": []
  },
  {
   "cell_type": "code",
   "execution_count": null,
   "id": "c1813fac",
   "metadata": {},
   "outputs": [],
   "source": []
  },
  {
   "cell_type": "code",
   "execution_count": null,
   "id": "6256553d",
   "metadata": {},
   "outputs": [],
   "source": []
  },
  {
   "cell_type": "code",
   "execution_count": null,
   "id": "f27fb11c",
   "metadata": {},
   "outputs": [],
   "source": []
  },
  {
   "cell_type": "code",
   "execution_count": null,
   "id": "f542dd53",
   "metadata": {},
   "outputs": [],
   "source": [
    "\n"
   ]
  },
  {
   "cell_type": "code",
   "execution_count": null,
   "id": "d77a9124",
   "metadata": {},
   "outputs": [],
   "source": []
  },
  {
   "cell_type": "code",
   "execution_count": null,
   "id": "5d5ed79e",
   "metadata": {},
   "outputs": [],
   "source": []
  },
  {
   "cell_type": "code",
   "execution_count": null,
   "id": "37027ac8",
   "metadata": {},
   "outputs": [],
   "source": [
    "\n"
   ]
  },
  {
   "cell_type": "code",
   "execution_count": null,
   "id": "ee81843b",
   "metadata": {},
   "outputs": [],
   "source": []
  },
  {
   "cell_type": "code",
   "execution_count": null,
   "id": "91576cc5",
   "metadata": {},
   "outputs": [],
   "source": []
  },
  {
   "cell_type": "code",
   "execution_count": null,
   "id": "d495d726",
   "metadata": {},
   "outputs": [],
   "source": []
  },
  {
   "cell_type": "code",
   "execution_count": null,
   "id": "90cad6a3",
   "metadata": {},
   "outputs": [],
   "source": []
  },
  {
   "cell_type": "code",
   "execution_count": null,
   "id": "3428dabc",
   "metadata": {},
   "outputs": [],
   "source": []
  },
  {
   "cell_type": "code",
   "execution_count": null,
   "id": "617b6c97",
   "metadata": {},
   "outputs": [],
   "source": []
  },
  {
   "cell_type": "code",
   "execution_count": null,
   "id": "e3f0d7f4",
   "metadata": {},
   "outputs": [],
   "source": []
  },
  {
   "cell_type": "code",
   "execution_count": null,
   "id": "51c71f41",
   "metadata": {},
   "outputs": [],
   "source": []
  },
  {
   "cell_type": "code",
   "execution_count": null,
   "id": "3c39eb79",
   "metadata": {},
   "outputs": [],
   "source": []
  },
  {
   "cell_type": "code",
   "execution_count": null,
   "id": "a6a92fe5",
   "metadata": {},
   "outputs": [],
   "source": []
  },
  {
   "cell_type": "code",
   "execution_count": null,
   "id": "7eaed339",
   "metadata": {},
   "outputs": [],
   "source": []
  },
  {
   "cell_type": "code",
   "execution_count": null,
   "id": "f6d82152",
   "metadata": {},
   "outputs": [],
   "source": []
  },
  {
   "cell_type": "code",
   "execution_count": null,
   "id": "0751562f",
   "metadata": {},
   "outputs": [],
   "source": []
  }
 ],
 "metadata": {
  "kernelspec": {
   "display_name": "Python 3 (ipykernel)",
   "language": "python",
   "name": "python3"
  },
  "language_info": {
   "codemirror_mode": {
    "name": "ipython",
    "version": 3
   },
   "file_extension": ".py",
   "mimetype": "text/x-python",
   "name": "python",
   "nbconvert_exporter": "python",
   "pygments_lexer": "ipython3",
   "version": "3.9.1"
  }
 },
 "nbformat": 4,
 "nbformat_minor": 5
}
